{
 "cells": [
  {
   "cell_type": "markdown",
   "metadata": {},
   "source": [
    "# SNU 2019 전형 간 성비\n",
    "\n",
    "[중앙일보의 1월 31일자 보도](https://news.joins.com/article/23340117)에 따르면 서울대 정시에서 남학생의 합격률은 여학생의 3배로 수시와 크게 다르다고 한다\n",
    "\n",
    "입학처에서 제공하는 학과/학부 별 성비와 전형별 선발인원을 이용해 이 차이에 대해 알아보자!\n",
    "성비는 [대학알리미](http://www.academyinfo.go.kr/), 선발인원은 [서울대학교 입학처](http://admission.snu.ac.kr/index.html)의 자료를 활용하였다.\n",
    "\n",
    "아직 2019 입시 결과가 최종적으로 대학 알리미에 입력되지 않았기 때문에 성비는 부득이하게 2018년의 정보를 활용하였다."
   ]
  },
  {
   "cell_type": "markdown",
   "metadata": {},
   "source": [
    "### 0. 중앙일보의 보도\n",
    "중앙일보의 보도에 따르면 수시와 정시에서의 여학생 비율은 2010년도에는 42.5%, 35.9%이며 2019년도에는 44.8%, 24.4% 였다."
   ]
  },
  {
   "cell_type": "code",
   "execution_count": 36,
   "metadata": {},
   "outputs": [],
   "source": [
    "# Load libraries\n",
    "import pandas as pd\n",
    "import numpy as np\n",
    "import matplotlib.pyplot as plt\n",
    "\n",
    "# Load parameters\n",
    "params = pd.read_csv('snu2019_utf8.csv', index_col=1)\n",
    "\n",
    "# Configure korean font for matplotlib\n",
    "plt.rcParams['font.family'] = 'NanumBarunGothic'"
   ]
  },
  {
   "cell_type": "markdown",
   "metadata": {},
   "source": [
    "\n",
    "\n",
    "### 1. 학과별 전형 비율\n",
    "남초학과는 수시 모집인원이 많고 여초학과는 정시 모집인원이 많다면 어떨까?  \n",
    " 이러한 상황에서는 전형별로 성비 차이가 존재하지 않더라도 정시에서 남학생이 강세를 보일 수 있다. \n",
    "\n",
    "학과별 전형 비율의 영향을 조사해보자."
   ]
  },
  {
   "cell_type": "markdown",
   "metadata": {},
   "source": [
    "##### Point Estimate"
   ]
  },
  {
   "cell_type": "code",
   "execution_count": 56,
   "metadata": {},
   "outputs": [
    {
     "data": {
      "image/png": "[encoded data removed]",
      "text/plain": [
       "<Figure size 432x288 with 1 Axes>"
      ]
     },
     "metadata": {},
     "output_type": "display_data"
    }
   ],
   "source": [
    "# compute the point estimate\n",
    "w_j_ratio = (params['정시최종']*params['여/전체']).sum() \\\n",
    "               / params['정시최종'].sum() # 정시합격생 중 여학생 비율\n",
    "w_s_ratio = (params['수시최종']*params['여/전체']).sum() \\\n",
    "                / params['수시최종'].sum() # 수시합격생 중 여학생 비율\n",
    "\n",
    "    \n",
    "# draw plot\n",
    "data = pd.Series([w_j_ratio, w_s_ratio]) * 100\n",
    "fig, ax = plt.subplots(1)\n",
    "bar = ax.bar(x=['정시','수시'],height=data)\n",
    "\n",
    "ax.set_xticklabels(['정시','수시'], rotation=0, fontsize=15)\n",
    "ax.set_ylim([0,100])\n",
    "ax.set_ylabel('여학생비율', fontsize=15)\n",
    "\n",
    "for rect in bar:\n",
    "    height = rect.get_height()\n",
    "    plt.text(rect.get_x()+rect.get_width()/2, height, str(int(10*height)/10)+'%', \n",
    "             ha='center', va='bottom', fontsize=14)\n",
    "    "
   ]
  },
  {
   "cell_type": "markdown",
   "metadata": {},
   "source": [
    "결과에서 보듯이 7% 가량의 차이가 발생함을 알 수 있다.  \n",
    "중앙일보가 보도한 20% 중 7%는 전형별 성차가 존재하지 않아도 발생할 수 있다는 말이다.  \n",
    "\n",
    "##### Monte Carlo Simulation\n",
    "그렇다면 이 상황에서 2019년의 결과가 발생할 확률을 계산해보자."
   ]
  },
  {
   "cell_type": "code",
   "execution_count": 73,
   "metadata": {},
   "outputs": [
    {
     "data": {
      "text/plain": [
       "(0, 20)"
      ]
     },
     "execution_count": 73,
     "metadata": {},
     "output_type": "execute_result"
    },
    {
     "data": {
      "image/png": "[encoded data removed]",
      "text/plain": [
       "<Figure size 432x288 with 1 Axes>"
      ]
     },
     "metadata": {},
     "output_type": "display_data"
    }
   ],
   "source": [
    "# Monte Carlo Simulation\n",
    "N_mc = 10000\n",
    "diffs = []\n",
    "n = 0\n",
    "for i in range(N_mc):\n",
    "    w_j = np.random.binomial(params['정시최종'], params['여/전체']).sum()\n",
    "    w_s = np.random.binomial(params['수시최종'], params['여/전체']).sum()\n",
    "    w_j_ratio = w_j / params['정시최종'].sum()\n",
    "    w_s_ratio = w_s / params['수시최종'].sum()\n",
    "    \n",
    "    diff = (w_s_ratio-w_j_ratio)*100\n",
    "    diffs.append(diff)\n",
    "    if diff > 20:\n",
    "        n+=1\n",
    "\n",
    "plt.hist(diffs,bins=101,density=True)\n",
    "plt.xlabel('수시여학생비율-정시여학생비율(%)', fontsize=15)\n",
    "plt.text(x=13, y=0.2, s='P-value='+str(int(n/N_mc*10)/10), fontsize=15)\n",
    "plt.xlim([0,20])\n",
    "    "
   ]
  },
  {
   "cell_type": "markdown",
   "metadata": {},
   "source": [
    "우리의 영가설 하에서 수시 여학생과 정시 여학생 사이의 차이는 통계적으로 매우 유의하다는 것을 알 수 있다.  \n",
    "영가설: $$P(여성|정시합격자) = P(여성|수시합격자)$$는 틀렸을 가능성이 높다. "
   ]
  },
  {
   "cell_type": "markdown",
   "metadata": {},
   "source": [
    "## 2. 정시 및 수시의 지원자 성비\n",
    "\n",
    "1. 정시는 재수생 지원자가 수시에서보다 많다.\n",
    "1. [에듀진의 18.03.19 보도](http://www.edujin.co.kr/news/articleView.html?idxno=18445)에 따르면 재수생 중 남학생의 비율은 57%로 여학생보다 약 13% 많은 것으로 집계됐다."
   ]
  }
 ],
 "metadata": {
  "kernelspec": {
   "display_name": "Python 3",
   "language": "python",
   "name": "python3"
  },
  "language_info": {
   "codemirror_mode": {
    "name": "ipython",
    "version": 3
   },
   "file_extension": ".py",
   "mimetype": "text/x-python",
   "name": "python",
   "nbconvert_exporter": "python",
   "pygments_lexer": "ipython3",
   "version": "3.6.8"
  }
 },
 "nbformat": 4,
 "nbformat_minor": 2
}
